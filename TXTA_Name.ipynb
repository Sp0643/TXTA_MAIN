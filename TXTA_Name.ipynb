{
  "nbformat": 4,
  "nbformat_minor": 0,
  "metadata": {
    "colab": {
      "provenance": []
    },
    "kernelspec": {
      "name": "python3",
      "display_name": "Python 3"
    },
    "language_info": {
      "name": "python"
    }
  },
  "cells": [
    {
      "cell_type": "code",
      "execution_count": null,
      "metadata": {
        "id": "jYIhqajiG3ON"
      },
      "outputs": [],
      "source": [
        "import re"
      ]
    },
    {
      "cell_type": "code",
      "source": [
        "s1 = '''Phill Collins was travelling with his friend Andrew Symons when he met the accident.'''"
      ],
      "metadata": {
        "id": "GC-wMPc6G9wz"
      },
      "execution_count": null,
      "outputs": []
    },
    {
      "cell_type": "code",
      "source": [
        "s2 = \"aafhfkds 243542 dsfdf123\""
      ],
      "metadata": {
        "id": "uu1TdamBHIvA"
      },
      "execution_count": null,
      "outputs": []
    },
    {
      "cell_type": "code",
      "source": [
        "re.findall(\"[a-z]+\", s2)"
      ],
      "metadata": {
        "colab": {
          "base_uri": "https://localhost:8080/"
        },
        "id": "pk9GmL1CHz87",
        "outputId": "cc704b5c-d5a8-4312-a44e-37ebb92000b5"
      },
      "execution_count": null,
      "outputs": [
        {
          "output_type": "execute_result",
          "data": {
            "text/plain": [
              "['aafhfkds', 'dsfdf']"
            ]
          },
          "metadata": {},
          "execution_count": 9
        }
      ]
    },
    {
      "cell_type": "code",
      "source": [
        "re.findall(\"[a-z]*\", s2)"
      ],
      "metadata": {
        "colab": {
          "base_uri": "https://localhost:8080/"
        },
        "id": "1Ju6krBfIZ7V",
        "outputId": "ced36bb0-a7e3-491c-efcd-9c9eea7ae895"
      },
      "execution_count": null,
      "outputs": [
        {
          "output_type": "execute_result",
          "data": {
            "text/plain": [
              "['aafhfkds', '', '', '', '', '', '', '', '', 'dsfdf', '', '', '', '']"
            ]
          },
          "metadata": {},
          "execution_count": 10
        }
      ]
    },
    {
      "cell_type": "code",
      "source": [
        "re.findall(\"[0-9]+\", s2)"
      ],
      "metadata": {
        "colab": {
          "base_uri": "https://localhost:8080/"
        },
        "id": "0Hzwvrp5JM6-",
        "outputId": "8baf01ae-71a5-4e3e-a32b-16d4e2f6295e"
      },
      "execution_count": null,
      "outputs": [
        {
          "output_type": "execute_result",
          "data": {
            "text/plain": [
              "['243542', '123']"
            ]
          },
          "metadata": {},
          "execution_count": 11
        }
      ]
    },
    {
      "cell_type": "code",
      "source": [
        "re.findall(\"[0-9a-z]+\", s2)"
      ],
      "metadata": {
        "colab": {
          "base_uri": "https://localhost:8080/"
        },
        "id": "PukHXcklJ5kW",
        "outputId": "5b70b570-e6fc-40b1-dda7-041f254c0514"
      },
      "execution_count": null,
      "outputs": [
        {
          "output_type": "execute_result",
          "data": {
            "text/plain": [
              "['aafhfkds', '243542', 'dsfdf123']"
            ]
          },
          "metadata": {},
          "execution_count": 12
        }
      ]
    },
    {
      "cell_type": "code",
      "source": [
        "s2.split()[-1] "
      ],
      "metadata": {
        "colab": {
          "base_uri": "https://localhost:8080/",
          "height": 36
        },
        "id": "q64N5Z6QKbNE",
        "outputId": "244f8984-e604-4805-ad09-1dd84fa11d82"
      },
      "execution_count": null,
      "outputs": [
        {
          "output_type": "execute_result",
          "data": {
            "text/plain": [
              "'dsfdf123'"
            ],
            "application/vnd.google.colaboratory.intrinsic+json": {
              "type": "string"
            }
          },
          "metadata": {},
          "execution_count": 13
        }
      ]
    },
    {
      "cell_type": "code",
      "source": [
        "re.findall(\"\\w+\", \"888 af78 aafhfkds 243542 shubh dsfdf123 54\")"
      ],
      "metadata": {
        "colab": {
          "base_uri": "https://localhost:8080/"
        },
        "id": "MYVtFmp0_wvT",
        "outputId": "5c970ccd-4a53-4547-e0bf-4730704c75ec"
      },
      "execution_count": null,
      "outputs": [
        {
          "output_type": "execute_result",
          "data": {
            "text/plain": [
              "['888']"
            ]
          },
          "metadata": {},
          "execution_count": 66
        }
      ]
    },
    {
      "cell_type": "code",
      "source": [
        "def only_alpha_numeric(txt):\n",
        "  alpha_num = set(re.findall(\"[a-z0-9]+\", txt))\n",
        "  only_alpha = set(re.findall(\"[a-z]+\", txt))\n",
        "  only_num = set(re.findall(\"[0-9]*\", txt))\n",
        "  s1 = alpha_num - only_alpha\n",
        "  s2 = s1 - only_num\n",
        "  return list(s2)"
      ],
      "metadata": {
        "id": "dIFggoNEL2SZ"
      },
      "execution_count": null,
      "outputs": []
    },
    {
      "cell_type": "code",
      "source": [
        "only_alpha_numeric(s2)"
      ],
      "metadata": {
        "colab": {
          "base_uri": "https://localhost:8080/"
        },
        "id": "E2NtzzyaNOxO",
        "outputId": "dbdaebe5-b01c-47ec-b0ab-317b26ea44dd"
      },
      "execution_count": null,
      "outputs": [
        {
          "output_type": "execute_result",
          "data": {
            "text/plain": [
              "['dsfdf123']"
            ]
          },
          "metadata": {},
          "execution_count": 15
        }
      ]
    },
    {
      "cell_type": "code",
      "source": [
        "re.search(only_alpha_numeric(s2)[0], s2)"
      ],
      "metadata": {
        "colab": {
          "base_uri": "https://localhost:8080/"
        },
        "id": "tlrvtFlVNdbH",
        "outputId": "1e2d7b6a-0150-4ae1-b819-b8dbdbe8d6c0"
      },
      "execution_count": null,
      "outputs": [
        {
          "output_type": "execute_result",
          "data": {
            "text/plain": [
              "<re.Match object; span=(16, 24), match='dsfdf123'>"
            ]
          },
          "metadata": {},
          "execution_count": 41
        }
      ]
    },
    {
      "cell_type": "code",
      "source": [
        "for token in re.finditer(only_alpha_numeric(s2)[0], s2):\n",
        "  print(token)"
      ],
      "metadata": {
        "colab": {
          "base_uri": "https://localhost:8080/"
        },
        "id": "gCjMtqjDN4Sx",
        "outputId": "3e065f9e-2627-4a02-e7ce-dfa5b86c29b8"
      },
      "execution_count": null,
      "outputs": [
        {
          "output_type": "stream",
          "name": "stdout",
          "text": [
            "<re.Match object; span=(16, 24), match='dsfdf123'>\n"
          ]
        }
      ]
    },
    {
      "cell_type": "code",
      "source": [
        "s2[16]"
      ],
      "metadata": {
        "colab": {
          "base_uri": "https://localhost:8080/",
          "height": 36
        },
        "id": "BD4eKxTjPcYU",
        "outputId": "10f7c84b-f212-4045-fc79-126517013c8a"
      },
      "execution_count": null,
      "outputs": [
        {
          "output_type": "execute_result",
          "data": {
            "text/plain": [
              "'d'"
            ],
            "application/vnd.google.colaboratory.intrinsic+json": {
              "type": "string"
            }
          },
          "metadata": {},
          "execution_count": 45
        }
      ]
    },
    {
      "cell_type": "code",
      "source": [
        "re.findall(\"[A-Z][a-z]+ [A-Z][a-z]+\", s1)"
      ],
      "metadata": {
        "colab": {
          "base_uri": "https://localhost:8080/"
        },
        "id": "_mA6wA1CP2Ip",
        "outputId": "827d4cc5-1b25-408f-ff68-4dedbdd3ea78"
      },
      "execution_count": null,
      "outputs": [
        {
          "output_type": "execute_result",
          "data": {
            "text/plain": [
              "['Phill Collins', 'Andrew Symons']"
            ]
          },
          "metadata": {},
          "execution_count": 47
        }
      ]
    },
    {
      "cell_type": "code",
      "source": [
        "s3 = \"I have my mobile numbers 01234567890, +91-123456789, 1234567890, 12345-67890 and my building number is 48-25\""
      ],
      "metadata": {
        "id": "W_FNoVRCQcrj"
      },
      "execution_count": null,
      "outputs": []
    },
    {
      "cell_type": "code",
      "source": [
        "re.findall(\"[+0-9-]+\", s3)"
      ],
      "metadata": {
        "colab": {
          "base_uri": "https://localhost:8080/"
        },
        "id": "-C9dgkbRRpk9",
        "outputId": "ed615ffa-155a-4fb4-845e-7c2bf9fc079e"
      },
      "execution_count": null,
      "outputs": [
        {
          "output_type": "execute_result",
          "data": {
            "text/plain": [
              "['01234567890', '+91-123456789', '1234567890', '12345-67890', '48-25']"
            ]
          },
          "metadata": {},
          "execution_count": 73
        }
      ]
    },
    {
      "cell_type": "code",
      "source": [
        "re.findall(\"[\\d+-]{10,14}\", s3)"
      ],
      "metadata": {
        "colab": {
          "base_uri": "https://localhost:8080/"
        },
        "id": "Df1c5y8RSGJI",
        "outputId": "4eb864a5-2bbb-4d04-b7ac-c13372205f2b"
      },
      "execution_count": null,
      "outputs": [
        {
          "output_type": "execute_result",
          "data": {
            "text/plain": [
              "['01234567890', '+91-123456789', '1234567890', '12345-67890']"
            ]
          },
          "metadata": {},
          "execution_count": 76
        }
      ]
    },
    {
      "cell_type": "code",
      "source": [
        "re.findall(\"[0-9]{10, 11} | [+][0-9]{2}-[0-9]{10} | [0-9]{5}-[0-9]{5}\", s3)"
      ],
      "metadata": {
        "colab": {
          "base_uri": "https://localhost:8080/"
        },
        "id": "MZ3TIMZoT0V5",
        "outputId": "32d7a4b1-8315-459b-ddbf-eae191d221d6"
      },
      "execution_count": null,
      "outputs": [
        {
          "output_type": "execute_result",
          "data": {
            "text/plain": [
              "[' 12345-67890']"
            ]
          },
          "metadata": {},
          "execution_count": 77
        }
      ]
    },
    {
      "cell_type": "code",
      "source": [
        "re.findall(\".+\", s3)"
      ],
      "metadata": {
        "colab": {
          "base_uri": "https://localhost:8080/"
        },
        "id": "wE4ioa0AUKBB",
        "outputId": "d5c179c7-94d6-467c-aa81-1c83e25c32d5"
      },
      "execution_count": null,
      "outputs": [
        {
          "output_type": "execute_result",
          "data": {
            "text/plain": [
              "['I have my mobile numbers 01234567890, +91-123456789, 1234567890, 12345-67890 and my building number is 48-25']"
            ]
          },
          "metadata": {},
          "execution_count": 80
        }
      ]
    },
    {
      "cell_type": "code",
      "source": [
        "s4 = \"My email ids are abc@xyz.se, abc_123@xyz.ac.in, abc.123@xyz.edu\""
      ],
      "metadata": {
        "id": "xcIASxbqVhEF"
      },
      "execution_count": null,
      "outputs": []
    },
    {
      "cell_type": "code",
      "source": [
        "re.findall(\"[a-z0-9]+@.*\", s4)"
      ],
      "metadata": {
        "colab": {
          "base_uri": "https://localhost:8080/"
        },
        "id": "A7G_2-nWWXDO",
        "outputId": "6c4815a2-d313-4232-833e-642b6b1d92a1"
      },
      "execution_count": null,
      "outputs": [
        {
          "output_type": "execute_result",
          "data": {
            "text/plain": [
              "['abc@xyz.se, abc_123@xyz.ac.in, abc.123@xyz.edu']"
            ]
          },
          "metadata": {},
          "execution_count": 99
        }
      ]
    },
    {
      "cell_type": "code",
      "source": [
        "s5 = \"The names are Subhasis Dasgupta, Anirban Sengupta, Jaydip Sen, Rudradeep Dasgupta and Subhasis Sengupta\""
      ],
      "metadata": {
        "id": "ejV_EDSmWheo"
      },
      "execution_count": null,
      "outputs": []
    },
    {
      "cell_type": "code",
      "source": [
        "re.findall(\"[A-Z][a-z]+ [A-Z][a-z]+\", s5)"
      ],
      "metadata": {
        "colab": {
          "base_uri": "https://localhost:8080/"
        },
        "id": "yc-L32wEYNJ5",
        "outputId": "0244d8ba-d219-44d6-8414-dc9c765c180c"
      },
      "execution_count": null,
      "outputs": [
        {
          "output_type": "execute_result",
          "data": {
            "text/plain": [
              "['Subhasis Dasgupta',\n",
              " 'Anirban Sengupta',\n",
              " 'Jaydip Sen',\n",
              " 'Rudradeep Dasgupta',\n",
              " 'Subhasis Sengupta']"
            ]
          },
          "metadata": {},
          "execution_count": 105
        }
      ]
    },
    {
      "cell_type": "code",
      "source": [
        "\"Query: How many names are there with surname as Dasgupta?\""
      ],
      "metadata": {
        "colab": {
          "base_uri": "https://localhost:8080/",
          "height": 36
        },
        "id": "Sbx9m9PhYRdH",
        "outputId": "f5eb0b15-2a3c-4881-ae15-2a3a0462e6b9"
      },
      "execution_count": null,
      "outputs": [
        {
          "output_type": "execute_result",
          "data": {
            "text/plain": [
              "'Query: How many names are there with surname as Dasgupta?'"
            ],
            "application/vnd.google.colaboratory.intrinsic+json": {
              "type": "string"
            }
          },
          "metadata": {},
          "execution_count": 107
        }
      ]
    },
    {
      "cell_type": "code",
      "source": [
        "re.findall(\"[A-Z][a-z]+(?= Dasgupta)\", s5)"
      ],
      "metadata": {
        "colab": {
          "base_uri": "https://localhost:8080/"
        },
        "id": "GtWMHEH9YsvE",
        "outputId": "f4ef0d85-72e0-4649-ac7a-fb62c143f78f"
      },
      "execution_count": null,
      "outputs": [
        {
          "output_type": "execute_result",
          "data": {
            "text/plain": [
              "['Subhasis', 'Rudradeep']"
            ]
          },
          "metadata": {},
          "execution_count": 113
        }
      ]
    },
    {
      "cell_type": "code",
      "source": [
        "re.findall(\"(?<=Subhasis )[A-Za-z]+\", s5)"
      ],
      "metadata": {
        "colab": {
          "base_uri": "https://localhost:8080/"
        },
        "id": "AmW9jFSqY0kP",
        "outputId": "429029f6-66e4-43dc-e103-054cba4d627c"
      },
      "execution_count": null,
      "outputs": [
        {
          "output_type": "execute_result",
          "data": {
            "text/plain": [
              "['Dasgupta', 'Sengupta']"
            ]
          },
          "metadata": {},
          "execution_count": 119
        }
      ]
    }
  ]
}