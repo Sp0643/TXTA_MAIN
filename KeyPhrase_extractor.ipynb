{
  "nbformat": 4,
  "nbformat_minor": 0,
  "metadata": {
    "colab": {
      "provenance": []
    },
    "kernelspec": {
      "name": "python3",
      "display_name": "Python 3"
    },
    "language_info": {
      "name": "python"
    }
  },
  "cells": [
    {
      "cell_type": "markdown",
      "source": [
        "# Keyphrase Extraction with BERT Transformers and Noun Phrases"
      ],
      "metadata": {
        "id": "DbuboufbCS18"
      }
    },
    {
      "cell_type": "code",
      "source": [],
      "metadata": {
        "id": "ujbWUxnWCPe7"
      },
      "execution_count": null,
      "outputs": []
    },
    {
      "cell_type": "code",
      "source": [
        "import spacy\n",
        "import pandas as pd\n",
        "import numpy as np\n"
      ],
      "metadata": {
        "id": "p6ZT2G__ScIt"
      },
      "execution_count": null,
      "outputs": []
    },
    {
      "cell_type": "code",
      "source": [
        "from bs4 import BeautifulSoup\n",
        "import requests"
      ],
      "metadata": {
        "id": "Y4JQrs54ScNu"
      },
      "execution_count": null,
      "outputs": []
    },
    {
      "cell_type": "code",
      "source": [
        "url ='https://timesofindia.indiatimes.com/business/india-business/akasa-air-to-add-one-aircraft-every-two-weeks/articleshow/93614917.cms'"
      ],
      "metadata": {
        "id": "p3ipGdR2ScSi"
      },
      "execution_count": null,
      "outputs": []
    },
    {
      "cell_type": "code",
      "source": [
        "header = {'User-Agent':'Mozilla/5.0 (Windows NT 10.0; Win64; x64) AppleWebKit/537.36 (KHTML, like Gecko) Chrome/104.0.0.0 Safari/537.36'}\n",
        "doc = requests.get(url)"
      ],
      "metadata": {
        "id": "jnhsv3uDScWv"
      },
      "execution_count": null,
      "outputs": []
    },
    {
      "cell_type": "code",
      "source": [
        "bsobj=BeautifulSoup(doc.text, 'html.parser')\n"
      ],
      "metadata": {
        "id": "MHGE9h6xO5ZF"
      },
      "execution_count": null,
      "outputs": []
    },
    {
      "cell_type": "code",
      "source": [
        "docs = bsobj.find(name ='div', attrs ={'class':'fewcent-93614917'}).text"
      ],
      "metadata": {
        "id": "Fmjszp3ftycP"
      },
      "execution_count": null,
      "outputs": []
    },
    {
      "cell_type": "code",
      "source": [
        "docs"
      ],
      "metadata": {
        "colab": {
          "base_uri": "https://localhost:8080/",
          "height": 140
        },
        "id": "55sPy5SzSck6",
        "outputId": "a4856566-e388-46b2-e521-15d7ac773f15"
      },
      "execution_count": null,
      "outputs": [
        {
          "output_type": "execute_result",
          "data": {
            "text/plain": [
              "'NEW DELHI: Akasa Air, the startup budget airline launched on August 7 with late Rakesh Jhunjhunwala as its biggest investor, has said it remains â\\x80\\x9cwell-capitalisedâ\\x80\\x9d and will induct the ordered 72 aircraft over the next five years. It will also place a â\\x80\\x9csignificantly largerâ\\x80\\x9d aircraft order in the next 1.5 years. The airline inducted its third Boeing 737 MAX on Tuesday.â\\x80\\x9cWe will continue to grow our fleet by adding one new aircraft every two weeks. We at Akasa Air continue to mourn the passing of Jhunjhunwala, this is a deep personal loss. Thanks in no small part to Jhunjhunwala, Akasa is a well-capitalised airline with the financial means to induct 72 aircraft over the next five years,\" Akasa founder-CEO Vinay Dube said.\"In fact, our financial platform is strong enough to allow Akasa to place an aircraft order in the next 18 months that will be significantly larger than our first. In simple terms, our growth is secure,â\\x80\\x9d he added.Industry insiders say Jhunjhunwala family holds about 47% stake in Akasa, followed by nearly 30% with founder-CEO Vinay Dube and the rest with other investors and staff. The biggest investorâ\\x80\\x99s demise was seen as a setback to the newborn airline. Akasa has sought to ally those concerns.â\\x80\\x9cWe are also thankful that Jhunjhunwala supported us in recruiting some of the best aviation talent in the country. He wanted us to have a top-notch leadership team that made all day-to-day decisions at the airline without having to fall back on him or any other investor. Anyone that saw him on our inaugural flight on August 7 knows how proud he was of each Akasa employee and partner. On our part, we couldnâ\\x80\\x99t be prouder and more fortunate to have known him,â\\x80\\x9d Dube said.He said Jhunjhunwala recognised Indiaâ\\x80\\x99s potential as one of the fastest-growing aviation markets in the world with â\\x80\\x9can unparalleled potential and decades of progressâ\\x80\\x9d ahead of us. â\\x80\\x9cHe was a true believer in Indiaâ\\x80\\x99s potential and saw Akasa Air serving our nation by building the transportation links that will support Indiaâ\\x80\\x99s ongoing economic transformation. Akasa Air will honour Jhunjhunwalaâ\\x80\\x99s legacy, values, and belief in us by striving to run an extraordinary airline,â\\x80\\x9d Dube said.'"
            ],
            "application/vnd.google.colaboratory.intrinsic+json": {
              "type": "string"
            }
          },
          "metadata": {},
          "execution_count": 32
        }
      ]
    },
    {
      "cell_type": "code",
      "source": [],
      "metadata": {
        "id": "Zn-Nr61ZCOzA"
      },
      "execution_count": null,
      "outputs": []
    },
    {
      "cell_type": "code",
      "source": [],
      "metadata": {
        "id": "4h0Se1fVScs3"
      },
      "execution_count": null,
      "outputs": []
    },
    {
      "cell_type": "code",
      "execution_count": null,
      "metadata": {
        "id": "_Y-2CPiZPMdE"
      },
      "outputs": [],
      "source": [
        "# !pip install keyphrase-vectorizers"
      ]
    },
    {
      "cell_type": "code",
      "source": [],
      "metadata": {
        "id": "rPIk6wk5Sanc"
      },
      "execution_count": null,
      "outputs": []
    },
    {
      "cell_type": "code",
      "source": [
        "from keyphrase_vectorizers import KeyphraseCountVectorizer\n",
        "\n",
        "docs = [\n",
        "    \"\"\"NEW DELHI: Akasa Air, the startup budget airline launched on August 7 with late Rakesh Jhunjhunwala as its biggest investor, has said it remains âwell-capitalisedâ and will induct the ordered 72 aircraft over the next five years. It will also place a âsignificantly largerâ aircraft order in the next 1.5 years. The airline inducted its third Boeing 737 MAX on Tuesday.We will continue to grow our fleet by adding one new aircraft every two weeks. We at Akasa Air continue to mourn the passing of Jhunjhunwala, this is a deep personal loss. Thanks in no small part to Jhunjhunwala, Akasa is a well-capitalised airline with the financial means to induct 72 aircraft over the next five years,\" Akasa founder-CEO Vinay Dube said.\"In fact, our financial platform is strong enough to allow Akasa to place an aircraft order in the next 18 months that will be significantly larger than our first. In simple terms, our growth is secure,â he added.Industry insiders say Jhunjhunwala family holds about 47% stake in Akasa, followed by nearly 30% with founder-CEO Vinay Dube and the rest with other investors and staff. The biggest investorâs demise was seen as a setback to the newborn airline. Akasa has sought to ally those concerns.We are also thankful that Jhunjhunwala supported us in recruiting some of the best aviation talent in the country. He wanted us to have a top-notch leadership team that made all day-to-day decisions at the airline without having to fall back on him or any other investor. Anyone that saw him on our inaugural flight on August 7 knows how proud he was of each Akasa employee and partner. On our part, we couldnt be prouder and more fortunate to have known him,â Dube said.He said Jhunjhunwala recognised Indias potential as one of the fastest-growing aviation markets in the world with an unparalleled potential and decades of progressâ ahead of us. âHe was a true believer in Indiaâs potential and saw Akasa Air serving our nation by building the transportation links that will support Indiaâs ongoing economic transformation. Akasa Air will honour Jhunjhunwalaâs legacy, values, and belief in us by striving to run an extraordinary airline, Dube said.\"\"\"]\n",
        "# Init default vectorizer.\n",
        "vectorizer = KeyphraseCountVectorizer()\n",
        "\n",
        "# Print parameters\n",
        "print(vectorizer.get_params())"
      ],
      "metadata": {
        "colab": {
          "base_uri": "https://localhost:8080/"
        },
        "id": "EooId3ciPRPS",
        "outputId": "2e4fdafb-f6c0-47e2-a271-c48e7677946f"
      },
      "execution_count": null,
      "outputs": [
        {
          "output_type": "stream",
          "name": "stdout",
          "text": [
            "{'binary': False, 'custom_pos_tagger': None, 'dtype': <class 'numpy.int64'>, 'lowercase': True, 'max_df': None, 'min_df': None, 'pos_pattern': '<J.*>*<N.*>+', 'spacy_exclude': None, 'spacy_pipeline': 'en_core_web_sm', 'stop_words': 'english', 'workers': 1}\n"
          ]
        }
      ]
    },
    {
      "cell_type": "code",
      "source": [
        "# After initializing the vectorizer, it can be fitted\n",
        "# to learn the keyphrases from the text documents.\n",
        "# Afterwards, the vectorizer can transform the documents \n",
        "# to a document-keyphrase matrix.\n",
        "# Matrix rows indicate the documents and columns indicate the unique keyphrases.\n",
        "# Each cell represents the count.\n",
        "\n",
        "document_keyphrase_matrix = vectorizer.fit_transform(docs).toarray()\n",
        "print(document_keyphrase_matrix)"
      ],
      "metadata": {
        "colab": {
          "base_uri": "https://localhost:8080/"
        },
        "id": "L98rm0r-PfND",
        "outputId": "f5735db6-3f82-4000-d5c3-f538fa2cc6c7"
      },
      "execution_count": null,
      "outputs": [
        {
          "output_type": "stream",
          "name": "stdout",
          "text": [
            "[[ 3  1  1  1  1  4  1  1  0  0  1  1  0  1  1  2  1  1  1  1  1  1  0  1\n",
            "   2  1  1 10  2  1  2  0  1  2  0  0  4  1  5  1  1  1  1  1  1  1  6  1\n",
            "   0  1  1  6  1  1  1  1  0  1  1  1  1  1  1  1  1  2  1  1  1  1  1  1\n",
            "   1  0  1]]\n"
          ]
        }
      ]
    },
    {
      "cell_type": "code",
      "source": [
        "# After learning the keyphrases, they can be returned.\n",
        "keyphrases = vectorizer.get_feature_names_out()\n",
        "print(keyphrases)"
      ],
      "metadata": {
        "colab": {
          "base_uri": "https://localhost:8080/"
        },
        "id": "xZlPwF1yPnw3",
        "outputId": "000397af-858d-4a0e-8c43-5e73c6458bdd"
      },
      "execution_count": null,
      "outputs": [
        {
          "output_type": "stream",
          "name": "stdout",
          "text": [
            "['years' 'late rakesh jhunjhunwala' 'financial platform'\n",
            " 'extraordinary airline' 'other investor' 'akasa air' 'inaugural flight'\n",
            " 'decades' 'capitalisedâ\\x80\\x9d' 'largerâ\\x80\\x9d aircraft order' 'max'\n",
            " 'indias potential' 'â\\x80\\x9d dube' 'ongoing economic transformation'\n",
            " 'rest' 'founder' 'setback' 'simple terms' 'other investors'\n",
            " 'startup budget airline' 'world' 'country' 'â\\x80\\x9che' 'concerns'\n",
            " 'aircraft order' 'aviation markets' 'staff' 'akasa' 'part' 'anyone'\n",
            " 'ceo vinay dube' 'progressâ\\x80\\x9d' 'thanks' 'august' 'â\\x80\\x9d'\n",
            " '% stake' 'dube' 'new aircraft' 'aircraft' 'fleet' 'best aviation talent'\n",
            " 'deep personal loss' 'weeks' 'newborn airline' 'demise' 'passing'\n",
            " 'airline' 'akasa employee' 'indiaâ\\x80\\x99s' 'jhunjhunwala family'\n",
            " 'partner' 'jhunjhunwala' 'true believer' 'small part' 'tuesday' 'belief'\n",
            " 'jhunjhunwalaâ\\x80\\x99s legacy' 'industry insiders' 'nation'\n",
            " 'third boeing' 'financial means' 'unparalleled potential' 'akasa founder'\n",
            " 'fact' 'day decisions' 'day' 'biggest investor' 'growth'\n",
            " 'notch leadership team' 'transportation links' 'values' 'prouder'\n",
            " 'months' '%' 'new delhi']\n"
          ]
        }
      ]
    },
    {
      "cell_type": "code",
      "source": [
        "# ! pip install keybert"
      ],
      "metadata": {
        "id": "88KYQfLwPt18"
      },
      "execution_count": null,
      "outputs": []
    },
    {
      "cell_type": "code",
      "source": [
        "from keybert import KeyBERT\n",
        "docs = [\n",
        "    \"\"\"NEW DELHI: Akasa Air, the startup budget airline launched on August 7 with late Rakesh Jhunjhunwala as its biggest investor, has said it remains âwell-capitalisedâ and will induct the ordered 72 aircraft over the next five years. It will also place a âsignificantly largerâ aircraft order in the next 1.5 years. The airline inducted its third Boeing 737 MAX on Tuesday.We will continue to grow our fleet by adding one new aircraft every two weeks. We at Akasa Air continue to mourn the passing of Jhunjhunwala, this is a deep personal loss. Thanks in no small part to Jhunjhunwala, Akasa is a well-capitalised airline with the financial means to induct 72 aircraft over the next five years,\" Akasa founder-CEO Vinay Dube said.\"In fact, our financial platform is strong enough to allow Akasa to place an aircraft order in the next 18 months that will be significantly larger than our first. In simple terms, our growth is secure,â he added.Industry insiders say Jhunjhunwala family holds about 47% stake in Akasa, followed by nearly 30% with founder-CEO Vinay Dube and the rest with other investors and staff. The biggest investorâs demise was seen as a setback to the newborn airline. Akasa has sought to ally those concerns.We are also thankful that Jhunjhunwala supported us in recruiting some of the best aviation talent in the country. He wanted us to have a top-notch leadership team that made all day-to-day decisions at the airline without having to fall back on him or any other investor. Anyone that saw him on our inaugural flight on August 7 knows how proud he was of each Akasa employee and partner. On our part, we couldnt be prouder and more fortunate to have known him,â Dube said.He said Jhunjhunwala recognised Indias potential as one of the fastest-growing aviation markets in the world with an unparalleled potential and decades of progressâ ahead of us. âHe was a true believer in Indiaâs potential and saw Akasa Air serving our nation by building the transportation links that will support Indiaâs ongoing economic transformation. Akasa Air will honour Jhunjhunwalaâs legacy, values, and belief in us by striving to run an extraordinary airline, Dube said.\"\"\"]\n",
        "        \n",
        "kw_model = KeyBERT()"
      ],
      "metadata": {
        "id": "g-VdBUsjP3PR"
      },
      "execution_count": null,
      "outputs": []
    },
    {
      "cell_type": "code",
      "source": [
        "kw_model.extract_keywords(docs=docs, keyphrase_ngram_range=(1,2))"
      ],
      "metadata": {
        "colab": {
          "base_uri": "https://localhost:8080/"
        },
        "id": "XM_uMM45QzBD",
        "outputId": "85014426-a0f5-4203-9ad1-886b44ed92d3"
      },
      "execution_count": null,
      "outputs": [
        {
          "output_type": "execute_result",
          "data": {
            "text/plain": [
              "[('airline akasa', 0.6795),\n",
              " ('akasa capitalised', 0.5932),\n",
              " ('jhunjhunwala akasa', 0.5895),\n",
              " ('akasa air', 0.5611),\n",
              " ('akasa', 0.5496)]"
            ]
          },
          "metadata": {},
          "execution_count": 48
        }
      ]
    },
    {
      "cell_type": "code",
      "source": [
        "\n",
        "from keyphrase_vectorizers import KeyphraseCountVectorizer\n",
        "\n",
        "kw_model.extract_keywords(docs=docs, vectorizer=KeyphraseCountVectorizer())"
      ],
      "metadata": {
        "colab": {
          "base_uri": "https://localhost:8080/"
        },
        "id": "SPoE4MjiRc9n",
        "outputId": "905debd7-b5af-4da1-914b-6fd701164a7a"
      },
      "execution_count": null,
      "outputs": [
        {
          "output_type": "execute_result",
          "data": {
            "text/plain": [
              "[('akasa air', 0.5611),\n",
              " ('akasa', 0.5496),\n",
              " ('akasa employee', 0.5373),\n",
              " ('akasa founder', 0.5364),\n",
              " ('startup budget airline', 0.5052)]"
            ]
          },
          "metadata": {},
          "execution_count": 49
        }
      ]
    },
    {
      "cell_type": "code",
      "source": [],
      "metadata": {
        "id": "1Ijd8MnHRjoH"
      },
      "execution_count": null,
      "outputs": []
    },
    {
      "cell_type": "markdown",
      "source": [
        "# YAKE!"
      ],
      "metadata": {
        "id": "Xr8SDjU2Ck6F"
      }
    },
    {
      "cell_type": "code",
      "source": [
        "!pip install git+https://github.com/LIAAD/yake\n",
        "import yake"
      ],
      "metadata": {
        "colab": {
          "base_uri": "https://localhost:8080/"
        },
        "id": "xknwOMhxSY6l",
        "outputId": "aff1aaf4-9f85-4350-c6f8-e318c8c45c30"
      },
      "execution_count": null,
      "outputs": [
        {
          "output_type": "stream",
          "name": "stdout",
          "text": [
            "Looking in indexes: https://pypi.org/simple, https://us-python.pkg.dev/colab-wheels/public/simple/\n",
            "Collecting git+https://github.com/LIAAD/yake\n",
            "  Cloning https://github.com/LIAAD/yake to /tmp/pip-req-build-e10aw32m\n",
            "  Running command git clone --filter=blob:none --quiet https://github.com/LIAAD/yake /tmp/pip-req-build-e10aw32m\n",
            "  Resolved https://github.com/LIAAD/yake to commit 8d71d94ded93fb77f1361f62e5264f19b9c91cd7\n",
            "  Preparing metadata (setup.py) ... \u001b[?25l\u001b[?25hdone\n",
            "Requirement already satisfied: tabulate in /usr/local/lib/python3.8/dist-packages (from yake==0.4.8) (0.8.10)\n",
            "Requirement already satisfied: click>=6.0 in /usr/local/lib/python3.8/dist-packages (from yake==0.4.8) (7.1.2)\n",
            "Requirement already satisfied: numpy in /usr/local/lib/python3.8/dist-packages (from yake==0.4.8) (1.21.6)\n",
            "Collecting segtok\n",
            "  Downloading segtok-1.5.11-py3-none-any.whl (24 kB)\n",
            "Requirement already satisfied: networkx in /usr/local/lib/python3.8/dist-packages (from yake==0.4.8) (2.8.8)\n",
            "Collecting jellyfish\n",
            "  Downloading jellyfish-0.9.0.tar.gz (132 kB)\n",
            "\u001b[2K     \u001b[90m━━━━━━━━━━━━━━━━━━━━━━━━━━━━━━━━━━━━━━━\u001b[0m \u001b[32m132.6/132.6 KB\u001b[0m \u001b[31m5.4 MB/s\u001b[0m eta \u001b[36m0:00:00\u001b[0m\n",
            "\u001b[?25h  Preparing metadata (setup.py) ... \u001b[?25l\u001b[?25hdone\n",
            "Requirement already satisfied: regex in /usr/local/lib/python3.8/dist-packages (from segtok->yake==0.4.8) (2022.6.2)\n",
            "Building wheels for collected packages: yake, jellyfish\n",
            "  Building wheel for yake (setup.py) ... \u001b[?25l\u001b[?25hdone\n",
            "  Created wheel for yake: filename=yake-0.4.8-py2.py3-none-any.whl size=62600 sha256=d47f75e155dc4e97d145ec99ff3b6efa9241170e573fd14d4c96976ea11c0cc6\n",
            "  Stored in directory: /tmp/pip-ephem-wheel-cache-2xkbngh6/wheels/91/6a/18/ab7d2fc1e58b6ed936dbe90881425aea909bae3f98dae32f66\n",
            "  Building wheel for jellyfish (setup.py) ... \u001b[?25l\u001b[?25hdone\n",
            "  Created wheel for jellyfish: filename=jellyfish-0.9.0-cp38-cp38-linux_x86_64.whl size=70607 sha256=45b0824d82446ae4cce0dc6b9dae4a5af9dbccf6e4ce955aab987331da5eb14d\n",
            "  Stored in directory: /root/.cache/pip/wheels/f1/c7/3c/4c83132de76359e3a429fd09c08995945ca96c5290a41651d3\n",
            "Successfully built yake jellyfish\n",
            "Installing collected packages: segtok, jellyfish, yake\n",
            "Successfully installed jellyfish-0.9.0 segtok-1.5.11 yake-0.4.8\n"
          ]
        }
      ]
    },
    {
      "cell_type": "code",
      "source": [
        "kw_extractor = yake.KeywordExtractor(top=10, stopwords=None)\n",
        "keywords = kw_extractor.extract_keywords(docs)\n",
        "for kw, v in keywords:\n",
        "  print(\"Keyphrase: \",kw, \": score\", v)"
      ],
      "metadata": {
        "colab": {
          "base_uri": "https://localhost:8080/"
        },
        "id": "gIpcI-zlSY-k",
        "outputId": "bb26b654-8e47-4c88-ece6-dd0d5b09fd9a"
      },
      "execution_count": null,
      "outputs": [
        {
          "output_type": "stream",
          "name": "stdout",
          "text": [
            "Warning! Exception: 'list' object has no attribute 'replace' generated by the following text: '['NEW DELHI: Akasa Air, the startup budget airline launched on August 7 with late Rakesh Jhunjhunwala as its biggest investor, has said it remains â\\x80\\x9cwell-capitalisedâ\\x80\\x9d and will induct the ordered 72 aircraft over the next five years. It will also place a â\\x80\\x9csignificantly largerâ\\x80\\x9d aircraft order in the next 1.5 years. The airline inducted its third Boeing 737 MAX on Tuesday.We will continue to grow our fleet by adding one new aircraft every two weeks. We at Akasa Air continue to mourn the passing of Jhunjhunwala, this is a deep personal loss. Thanks in no small part to Jhunjhunwala, Akasa is a well-capitalised airline with the financial means to induct 72 aircraft over the next five years,\" Akasa founder-CEO Vinay Dube said.\"In fact, our financial platform is strong enough to allow Akasa to place an aircraft order in the next 18 months that will be significantly larger than our first. In simple terms, our growth is secure,â\\x80\\x9d he added.Industry insiders say Jhunjhunwala family holds about 47% stake in Akasa, followed by nearly 30% with founder-CEO Vinay Dube and the rest with other investors and staff. The biggest investorâ\\x80\\x99s demise was seen as a setback to the newborn airline. Akasa has sought to ally those concerns.We are also thankful that Jhunjhunwala supported us in recruiting some of the best aviation talent in the country. He wanted us to have a top-notch leadership team that made all day-to-day decisions at the airline without having to fall back on him or any other investor. Anyone that saw him on our inaugural flight on August 7 knows how proud he was of each Akasa employee and partner. On our part, we couldnt be prouder and more fortunate to have known him,â\\x80\\x9d Dube said.He said Jhunjhunwala recognised Indias potential as one of the fastest-growing aviation markets in the world with an unparalleled potential and decades of progressâ\\x80\\x9d ahead of us. â\\x80\\x9cHe was a true believer in Indiaâ\\x80\\x99s potential and saw Akasa Air serving our nation by building the transportation links that will support Indiaâ\\x80\\x99s ongoing economic transformation. Akasa Air will honour Jhunjhunwalaâ\\x80\\x99s legacy, values, and belief in us by striving to run an extraordinary airline, Dube said.']' \n"
          ]
        }
      ]
    },
    {
      "cell_type": "code",
      "source": [],
      "metadata": {
        "id": "4tMJsOn2SZC9"
      },
      "execution_count": null,
      "outputs": []
    },
    {
      "cell_type": "markdown",
      "source": [
        "# Rake\n"
      ],
      "metadata": {
        "id": "Z9fe_Jx8Dedv"
      }
    },
    {
      "cell_type": "code",
      "source": [
        "!pip install multi_rake"
      ],
      "metadata": {
        "colab": {
          "base_uri": "https://localhost:8080/"
        },
        "id": "-CPftouoSZIm",
        "outputId": "b7c41a2a-cbe0-4f8f-bb39-86d770103593"
      },
      "execution_count": null,
      "outputs": [
        {
          "output_type": "stream",
          "name": "stdout",
          "text": [
            "Looking in indexes: https://pypi.org/simple, https://us-python.pkg.dev/colab-wheels/public/simple/\n",
            "Collecting multi_rake\n",
            "  Downloading multi_rake-0.0.2-py3-none-any.whl (31 kB)\n",
            "Requirement already satisfied: regex>=2018.6.6 in /usr/local/lib/python3.8/dist-packages (from multi_rake) (2022.6.2)\n",
            "Requirement already satisfied: pyrsistent>=0.14.2 in /usr/local/lib/python3.8/dist-packages (from multi_rake) (0.19.3)\n",
            "Requirement already satisfied: numpy>=1.14.4 in /usr/local/lib/python3.8/dist-packages (from multi_rake) (1.21.6)\n",
            "Collecting pycld2>=0.41\n",
            "  Downloading pycld2-0.41.tar.gz (41.4 MB)\n",
            "\u001b[2K     \u001b[90m━━━━━━━━━━━━━━━━━━━━━━━━━━━━━━━━━━━━━━━━\u001b[0m \u001b[32m41.4/41.4 MB\u001b[0m \u001b[31m16.8 MB/s\u001b[0m eta \u001b[36m0:00:00\u001b[0m\n",
            "\u001b[?25h  Preparing metadata (setup.py) ... \u001b[?25l\u001b[?25hdone\n",
            "Building wheels for collected packages: pycld2\n",
            "  Building wheel for pycld2 (setup.py) ... \u001b[?25l\u001b[?25hdone\n",
            "  Created wheel for pycld2: filename=pycld2-0.41-cp38-cp38-linux_x86_64.whl size=9833609 sha256=fdd03266a31658c3d12012d88cf6e0ef2f5b34c4bb7fb760c2f230d08437b972\n",
            "  Stored in directory: /root/.cache/pip/wheels/2b/3a/82/d990040cbe6c3527732e931e2925785e83fe9aaa5a11c313ca\n",
            "Successfully built pycld2\n",
            "Installing collected packages: pycld2, multi_rake\n",
            "Successfully installed multi_rake-0.0.2 pycld2-0.41\n"
          ]
        }
      ]
    },
    {
      "cell_type": "code",
      "source": [
        "from multi_rake import Rake\n",
        "rake = Rake()\n",
        "keywords = rake.apply(docs)\n",
        "print(keywords[:10])"
      ],
      "metadata": {
        "colab": {
          "base_uri": "https://localhost:8080/",
          "height": 339
        },
        "id": "JpOVKi5GSZMx",
        "outputId": "6c158fe6-661b-4144-e341-b60e50432f9d"
      },
      "execution_count": null,
      "outputs": [
        {
          "output_type": "error",
          "ename": "AttributeError",
          "evalue": "ignored",
          "traceback": [
            "\u001b[0;31m---------------------------------------------------------------------------\u001b[0m",
            "\u001b[0;31mAttributeError\u001b[0m                            Traceback (most recent call last)",
            "\u001b[0;32m<ipython-input-55-0bd352a79054>\u001b[0m in \u001b[0;36m<module>\u001b[0;34m\u001b[0m\n\u001b[1;32m      1\u001b[0m \u001b[0;32mfrom\u001b[0m \u001b[0mmulti_rake\u001b[0m \u001b[0;32mimport\u001b[0m \u001b[0mRake\u001b[0m\u001b[0;34m\u001b[0m\u001b[0;34m\u001b[0m\u001b[0m\n\u001b[1;32m      2\u001b[0m \u001b[0mrake\u001b[0m \u001b[0;34m=\u001b[0m \u001b[0mRake\u001b[0m\u001b[0;34m(\u001b[0m\u001b[0;34m)\u001b[0m\u001b[0;34m\u001b[0m\u001b[0;34m\u001b[0m\u001b[0m\n\u001b[0;32m----> 3\u001b[0;31m \u001b[0mkeywords\u001b[0m \u001b[0;34m=\u001b[0m \u001b[0mrake\u001b[0m\u001b[0;34m.\u001b[0m\u001b[0mapply\u001b[0m\u001b[0;34m(\u001b[0m\u001b[0mdocs\u001b[0m\u001b[0;34m)\u001b[0m\u001b[0;34m\u001b[0m\u001b[0;34m\u001b[0m\u001b[0m\n\u001b[0m\u001b[1;32m      4\u001b[0m \u001b[0mprint\u001b[0m\u001b[0;34m(\u001b[0m\u001b[0mkeywords\u001b[0m\u001b[0;34m[\u001b[0m\u001b[0;34m:\u001b[0m\u001b[0;36m10\u001b[0m\u001b[0;34m]\u001b[0m\u001b[0;34m)\u001b[0m\u001b[0;34m\u001b[0m\u001b[0;34m\u001b[0m\u001b[0m\n",
            "\u001b[0;32m/usr/local/lib/python3.8/dist-packages/multi_rake/algorithm.py\u001b[0m in \u001b[0;36mapply\u001b[0;34m(self, text, text_for_stopwords)\u001b[0m\n\u001b[1;32m     52\u001b[0m \u001b[0;34m\u001b[0m\u001b[0m\n\u001b[1;32m     53\u001b[0m     \u001b[0;32mdef\u001b[0m \u001b[0mapply\u001b[0m\u001b[0;34m(\u001b[0m\u001b[0mself\u001b[0m\u001b[0;34m,\u001b[0m \u001b[0mtext\u001b[0m\u001b[0;34m,\u001b[0m \u001b[0mtext_for_stopwords\u001b[0m\u001b[0;34m=\u001b[0m\u001b[0;32mNone\u001b[0m\u001b[0;34m)\u001b[0m\u001b[0;34m:\u001b[0m\u001b[0;34m\u001b[0m\u001b[0;34m\u001b[0m\u001b[0m\n\u001b[0;32m---> 54\u001b[0;31m         \u001b[0mtext\u001b[0m \u001b[0;34m=\u001b[0m \u001b[0mtext\u001b[0m\u001b[0;34m.\u001b[0m\u001b[0mlower\u001b[0m\u001b[0;34m(\u001b[0m\u001b[0;34m)\u001b[0m\u001b[0;34m\u001b[0m\u001b[0;34m\u001b[0m\u001b[0m\n\u001b[0m\u001b[1;32m     55\u001b[0m \u001b[0;34m\u001b[0m\u001b[0m\n\u001b[1;32m     56\u001b[0m         \u001b[0mmax_words\u001b[0m \u001b[0;34m=\u001b[0m \u001b[0mself\u001b[0m\u001b[0;34m.\u001b[0m\u001b[0mmax_words\u001b[0m\u001b[0;34m\u001b[0m\u001b[0;34m\u001b[0m\u001b[0m\n",
            "\u001b[0;31mAttributeError\u001b[0m: 'list' object has no attribute 'lower'"
          ]
        }
      ]
    },
    {
      "cell_type": "code",
      "source": [
        "! pip install summa\n",
        "from summa import keywords"
      ],
      "metadata": {
        "colab": {
          "base_uri": "https://localhost:8080/"
        },
        "id": "g8DtHzaODttN",
        "outputId": "8e471bac-f5ea-4007-dff5-7467c880bbac"
      },
      "execution_count": null,
      "outputs": [
        {
          "output_type": "stream",
          "name": "stdout",
          "text": [
            "Looking in indexes: https://pypi.org/simple, https://us-python.pkg.dev/colab-wheels/public/simple/\n",
            "Collecting summa\n",
            "  Downloading summa-1.2.0.tar.gz (54 kB)\n",
            "\u001b[2K     \u001b[90m━━━━━━━━━━━━━━━━━━━━━━━━━━━━━━━━━━━━━━━━\u001b[0m \u001b[32m54.9/54.9 KB\u001b[0m \u001b[31m2.7 MB/s\u001b[0m eta \u001b[36m0:00:00\u001b[0m\n",
            "\u001b[?25h  Preparing metadata (setup.py) ... \u001b[?25l\u001b[?25hdone\n",
            "Requirement already satisfied: scipy>=0.19 in /usr/local/lib/python3.8/dist-packages (from summa) (1.7.3)\n",
            "Requirement already satisfied: numpy<1.23.0,>=1.16.5 in /usr/local/lib/python3.8/dist-packages (from scipy>=0.19->summa) (1.21.6)\n",
            "Building wheels for collected packages: summa\n",
            "  Building wheel for summa (setup.py) ... \u001b[?25l\u001b[?25hdone\n",
            "  Created wheel for summa: filename=summa-1.2.0-py3-none-any.whl size=54410 sha256=1f1abd42f657ba635c3770b9de439701df3cf0eda4861a5432b57fe1ae0aa670\n",
            "  Stored in directory: /root/.cache/pip/wheels/fd/6a/dd/209eb19d5f2266b9cfd06827539bf70435b0ad5fe8244e52d3\n",
            "Successfully built summa\n",
            "Installing collected packages: summa\n",
            "Successfully installed summa-1.2.0\n"
          ]
        }
      ]
    },
    {
      "cell_type": "code",
      "source": [
        "TR_keywords = keywords.keywords(docs, scores=True)\n",
        "print(TR_keywords[0:10])"
      ],
      "metadata": {
        "colab": {
          "base_uri": "https://localhost:8080/",
          "height": 304
        },
        "id": "5MpRT2EtD9fN",
        "outputId": "6cb75bb5-a067-4c93-e3d8-4ea8afda41e7"
      },
      "execution_count": null,
      "outputs": [
        {
          "output_type": "error",
          "ename": "ValueError",
          "evalue": "ignored",
          "traceback": [
            "\u001b[0;31m---------------------------------------------------------------------------\u001b[0m",
            "\u001b[0;31mValueError\u001b[0m                                Traceback (most recent call last)",
            "\u001b[0;32m<ipython-input-57-a065a4897583>\u001b[0m in \u001b[0;36m<module>\u001b[0;34m\u001b[0m\n\u001b[0;32m----> 1\u001b[0;31m \u001b[0mTR_keywords\u001b[0m \u001b[0;34m=\u001b[0m \u001b[0mkeywords\u001b[0m\u001b[0;34m.\u001b[0m\u001b[0mkeywords\u001b[0m\u001b[0;34m(\u001b[0m\u001b[0mdocs\u001b[0m\u001b[0;34m,\u001b[0m \u001b[0mscores\u001b[0m\u001b[0;34m=\u001b[0m\u001b[0;32mTrue\u001b[0m\u001b[0;34m)\u001b[0m\u001b[0;34m\u001b[0m\u001b[0;34m\u001b[0m\u001b[0m\n\u001b[0m\u001b[1;32m      2\u001b[0m \u001b[0mprint\u001b[0m\u001b[0;34m(\u001b[0m\u001b[0mTR_keywords\u001b[0m\u001b[0;34m[\u001b[0m\u001b[0;36m0\u001b[0m\u001b[0;34m:\u001b[0m\u001b[0;36m10\u001b[0m\u001b[0;34m]\u001b[0m\u001b[0;34m)\u001b[0m\u001b[0;34m\u001b[0m\u001b[0;34m\u001b[0m\u001b[0m\n",
            "\u001b[0;32m/usr/local/lib/python3.8/dist-packages/summa/keywords.py\u001b[0m in \u001b[0;36mkeywords\u001b[0;34m(text, ratio, words, language, split, scores, deaccent, additional_stopwords)\u001b[0m\n\u001b[1;32m    187\u001b[0m \u001b[0;32mdef\u001b[0m \u001b[0mkeywords\u001b[0m\u001b[0;34m(\u001b[0m\u001b[0mtext\u001b[0m\u001b[0;34m,\u001b[0m \u001b[0mratio\u001b[0m\u001b[0;34m=\u001b[0m\u001b[0;36m0.2\u001b[0m\u001b[0;34m,\u001b[0m \u001b[0mwords\u001b[0m\u001b[0;34m=\u001b[0m\u001b[0;32mNone\u001b[0m\u001b[0;34m,\u001b[0m \u001b[0mlanguage\u001b[0m\u001b[0;34m=\u001b[0m\u001b[0;34m\"english\"\u001b[0m\u001b[0;34m,\u001b[0m \u001b[0msplit\u001b[0m\u001b[0;34m=\u001b[0m\u001b[0;32mFalse\u001b[0m\u001b[0;34m,\u001b[0m \u001b[0mscores\u001b[0m\u001b[0;34m=\u001b[0m\u001b[0;32mFalse\u001b[0m\u001b[0;34m,\u001b[0m \u001b[0mdeaccent\u001b[0m\u001b[0;34m=\u001b[0m\u001b[0;32mFalse\u001b[0m\u001b[0;34m,\u001b[0m \u001b[0madditional_stopwords\u001b[0m\u001b[0;34m=\u001b[0m\u001b[0;32mNone\u001b[0m\u001b[0;34m)\u001b[0m\u001b[0;34m:\u001b[0m\u001b[0;34m\u001b[0m\u001b[0;34m\u001b[0m\u001b[0m\n\u001b[1;32m    188\u001b[0m     \u001b[0;32mif\u001b[0m \u001b[0;32mnot\u001b[0m \u001b[0misinstance\u001b[0m\u001b[0;34m(\u001b[0m\u001b[0mtext\u001b[0m\u001b[0;34m,\u001b[0m \u001b[0mstr\u001b[0m\u001b[0;34m)\u001b[0m\u001b[0;34m:\u001b[0m\u001b[0;34m\u001b[0m\u001b[0;34m\u001b[0m\u001b[0m\n\u001b[0;32m--> 189\u001b[0;31m         \u001b[0;32mraise\u001b[0m \u001b[0mValueError\u001b[0m\u001b[0;34m(\u001b[0m\u001b[0;34m\"Text parameter must be a Unicode object (str)!\"\u001b[0m\u001b[0;34m)\u001b[0m\u001b[0;34m\u001b[0m\u001b[0;34m\u001b[0m\u001b[0m\n\u001b[0m\u001b[1;32m    190\u001b[0m \u001b[0;34m\u001b[0m\u001b[0m\n\u001b[1;32m    191\u001b[0m     \u001b[0;31m# Gets a dict of word -> lemma\u001b[0m\u001b[0;34m\u001b[0m\u001b[0;34m\u001b[0m\u001b[0;34m\u001b[0m\u001b[0m\n",
            "\u001b[0;31mValueError\u001b[0m: Text parameter must be a Unicode object (str)!"
          ]
        }
      ]
    },
    {
      "cell_type": "code",
      "source": [],
      "metadata": {
        "id": "3kOtwKBcEErL"
      },
      "execution_count": null,
      "outputs": []
    },
    {
      "cell_type": "markdown",
      "source": [
        "# KeyBert"
      ],
      "metadata": {
        "id": "NMKrSl32ENqf"
      }
    },
    {
      "cell_type": "code",
      "source": [
        "keywords = kw_model.extract_keywords(docs, \n",
        "\n",
        "                                     keyphrase_ngram_range=(1, 3), \n",
        "\n",
        "                                     stop_words='english', \n",
        "\n",
        "                                     highlight=False,\n",
        "\n",
        "                                     top_n=10)\n",
        "\n",
        "keywords_list= list(dict(keywords).keys())\n",
        "\n",
        "print(keywords_list)"
      ],
      "metadata": {
        "colab": {
          "base_uri": "https://localhost:8080/"
        },
        "id": "IE4-05LGEP8B",
        "outputId": "f3a97700-072d-47da-c2c6-5bbad3999d82"
      },
      "execution_count": null,
      "outputs": [
        {
          "output_type": "stream",
          "name": "stdout",
          "text": [
            "['akasa capitalised airline', 'airline akasa', 'airline akasa sought', 'akasa air startup', 'jhunjhunwala akasa capitalised', 'newborn airline akasa', 'akasa founder ceo', 'akasa air continue', 'delhi akasa air', 'akasa capitalised']\n"
          ]
        }
      ]
    },
    {
      "cell_type": "code",
      "source": [],
      "metadata": {
        "id": "9ACA7F54EVy1"
      },
      "execution_count": null,
      "outputs": []
    }
  ]
}